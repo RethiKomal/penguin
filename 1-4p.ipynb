{
 "cells": [
  {
   "cell_type": "code",
   "execution_count": 1,
   "id": "9e5c599a",
   "metadata": {},
   "outputs": [],
   "source": [
    "import pandas as pd\n",
    "import numpy as np"
   ]
  },
  {
   "cell_type": "code",
   "execution_count": 2,
   "id": "64bab3c7",
   "metadata": {},
   "outputs": [
    {
     "data": {
      "text/html": [
       "<div>\n",
       "<style scoped>\n",
       "    .dataframe tbody tr th:only-of-type {\n",
       "        vertical-align: middle;\n",
       "    }\n",
       "\n",
       "    .dataframe tbody tr th {\n",
       "        vertical-align: top;\n",
       "    }\n",
       "\n",
       "    .dataframe thead th {\n",
       "        text-align: right;\n",
       "    }\n",
       "</style>\n",
       "<table border=\"1\" class=\"dataframe\">\n",
       "  <thead>\n",
       "    <tr style=\"text-align: right;\">\n",
       "      <th></th>\n",
       "      <th>species</th>\n",
       "      <th>island</th>\n",
       "      <th>culmen_length_mm</th>\n",
       "      <th>culmen_depth_mm</th>\n",
       "      <th>flipper_length_mm</th>\n",
       "      <th>body_mass_g</th>\n",
       "      <th>sex</th>\n",
       "    </tr>\n",
       "  </thead>\n",
       "  <tbody>\n",
       "    <tr>\n",
       "      <th>0</th>\n",
       "      <td>Adelie</td>\n",
       "      <td>Torgersen</td>\n",
       "      <td>39.1</td>\n",
       "      <td>18.7</td>\n",
       "      <td>181.0</td>\n",
       "      <td>3750.0</td>\n",
       "      <td>MALE</td>\n",
       "    </tr>\n",
       "    <tr>\n",
       "      <th>1</th>\n",
       "      <td>Adelie</td>\n",
       "      <td>Torgersen</td>\n",
       "      <td>39.5</td>\n",
       "      <td>17.4</td>\n",
       "      <td>186.0</td>\n",
       "      <td>3800.0</td>\n",
       "      <td>FEMALE</td>\n",
       "    </tr>\n",
       "    <tr>\n",
       "      <th>2</th>\n",
       "      <td>Adelie</td>\n",
       "      <td>Torgersen</td>\n",
       "      <td>40.3</td>\n",
       "      <td>18.0</td>\n",
       "      <td>195.0</td>\n",
       "      <td>3250.0</td>\n",
       "      <td>FEMALE</td>\n",
       "    </tr>\n",
       "    <tr>\n",
       "      <th>3</th>\n",
       "      <td>Adelie</td>\n",
       "      <td>Torgersen</td>\n",
       "      <td>NaN</td>\n",
       "      <td>NaN</td>\n",
       "      <td>NaN</td>\n",
       "      <td>NaN</td>\n",
       "      <td>NaN</td>\n",
       "    </tr>\n",
       "    <tr>\n",
       "      <th>4</th>\n",
       "      <td>Adelie</td>\n",
       "      <td>Torgersen</td>\n",
       "      <td>36.7</td>\n",
       "      <td>19.3</td>\n",
       "      <td>193.0</td>\n",
       "      <td>3450.0</td>\n",
       "      <td>FEMALE</td>\n",
       "    </tr>\n",
       "  </tbody>\n",
       "</table>\n",
       "</div>"
      ],
      "text/plain": [
       "  species     island  culmen_length_mm  culmen_depth_mm  flipper_length_mm  \\\n",
       "0  Adelie  Torgersen              39.1             18.7              181.0   \n",
       "1  Adelie  Torgersen              39.5             17.4              186.0   \n",
       "2  Adelie  Torgersen              40.3             18.0              195.0   \n",
       "3  Adelie  Torgersen               NaN              NaN                NaN   \n",
       "4  Adelie  Torgersen              36.7             19.3              193.0   \n",
       "\n",
       "   body_mass_g     sex  \n",
       "0       3750.0    MALE  \n",
       "1       3800.0  FEMALE  \n",
       "2       3250.0  FEMALE  \n",
       "3          NaN     NaN  \n",
       "4       3450.0  FEMALE  "
      ]
     },
     "execution_count": 2,
     "metadata": {},
     "output_type": "execute_result"
    }
   ],
   "source": [
    "pn = pd.read_csv(\"penguin.csv\")\n",
    "pn.head()"
   ]
  },
  {
   "cell_type": "code",
   "execution_count": 3,
   "id": "609172bb",
   "metadata": {},
   "outputs": [
    {
     "data": {
      "text/plain": [
       "species               0\n",
       "island                0\n",
       "culmen_length_mm      2\n",
       "culmen_depth_mm       2\n",
       "flipper_length_mm     2\n",
       "body_mass_g           2\n",
       "sex                  10\n",
       "dtype: int64"
      ]
     },
     "execution_count": 3,
     "metadata": {},
     "output_type": "execute_result"
    }
   ],
   "source": [
    "pn.isnull().sum()"
   ]
  },
  {
   "cell_type": "code",
   "execution_count": 4,
   "id": "3d55bdb6",
   "metadata": {},
   "outputs": [
    {
     "data": {
      "text/plain": [
       "MALE      168\n",
       "FEMALE    165\n",
       ".           1\n",
       "Name: sex, dtype: int64"
      ]
     },
     "execution_count": 4,
     "metadata": {},
     "output_type": "execute_result"
    }
   ],
   "source": [
    "pn.sex.value_counts()"
   ]
  },
  {
   "cell_type": "code",
   "execution_count": 5,
   "id": "b6f0b1ea",
   "metadata": {},
   "outputs": [],
   "source": [
    "pn['sex'].fillna('MALE',inplace=True)"
   ]
  },
  {
   "cell_type": "code",
   "execution_count": 6,
   "id": "483b9447",
   "metadata": {},
   "outputs": [
    {
     "data": {
      "text/plain": [
       "(344, 7)"
      ]
     },
     "execution_count": 6,
     "metadata": {},
     "output_type": "execute_result"
    }
   ],
   "source": [
    "pn.shape"
   ]
  },
  {
   "cell_type": "code",
   "execution_count": 132,
   "id": "1658e82d",
   "metadata": {},
   "outputs": [],
   "source": [
    "for i in ['culmen_length_mm','culmen_depth_mm','flipper_length_mm','body_mass_g']:\n",
    "    pn[i].fillna(pn[i].median(),inplace=True)"
   ]
  },
  {
   "cell_type": "code",
   "execution_count": null,
   "id": "5e873b86",
   "metadata": {},
   "outputs": [],
   "source": []
  },
  {
   "cell_type": "code",
   "execution_count": 133,
   "id": "99126767",
   "metadata": {},
   "outputs": [
    {
     "data": {
      "text/plain": [
       "species              0\n",
       "island               0\n",
       "culmen_length_mm     0\n",
       "culmen_depth_mm      0\n",
       "flipper_length_mm    0\n",
       "body_mass_g          0\n",
       "sex                  0\n",
       "dtype: int64"
      ]
     },
     "execution_count": 133,
     "metadata": {},
     "output_type": "execute_result"
    }
   ],
   "source": [
    "pn.isnull().sum()"
   ]
  },
  {
   "cell_type": "code",
   "execution_count": null,
   "id": "65480483",
   "metadata": {},
   "outputs": [],
   "source": []
  },
  {
   "cell_type": "code",
   "execution_count": null,
   "id": "8c5f2d75",
   "metadata": {},
   "outputs": [],
   "source": []
  },
  {
   "cell_type": "code",
   "execution_count": null,
   "id": "fc1292f6",
   "metadata": {},
   "outputs": [],
   "source": []
  },
  {
   "cell_type": "code",
   "execution_count": null,
   "id": "c949287e",
   "metadata": {},
   "outputs": [],
   "source": []
  },
  {
   "cell_type": "code",
   "execution_count": 134,
   "id": "36af5a94",
   "metadata": {},
   "outputs": [],
   "source": [
    "pn[\"sex\"] = np.where(pn[\"sex\"]=='MALE',1,0)"
   ]
  },
  {
   "cell_type": "code",
   "execution_count": 135,
   "id": "9a7b948d",
   "metadata": {},
   "outputs": [
    {
     "data": {
      "text/html": [
       "<div>\n",
       "<style scoped>\n",
       "    .dataframe tbody tr th:only-of-type {\n",
       "        vertical-align: middle;\n",
       "    }\n",
       "\n",
       "    .dataframe tbody tr th {\n",
       "        vertical-align: top;\n",
       "    }\n",
       "\n",
       "    .dataframe thead th {\n",
       "        text-align: right;\n",
       "    }\n",
       "</style>\n",
       "<table border=\"1\" class=\"dataframe\">\n",
       "  <thead>\n",
       "    <tr style=\"text-align: right;\">\n",
       "      <th></th>\n",
       "      <th>species</th>\n",
       "      <th>island</th>\n",
       "      <th>culmen_length_mm</th>\n",
       "      <th>culmen_depth_mm</th>\n",
       "      <th>flipper_length_mm</th>\n",
       "      <th>body_mass_g</th>\n",
       "      <th>sex</th>\n",
       "    </tr>\n",
       "  </thead>\n",
       "  <tbody>\n",
       "    <tr>\n",
       "      <th>0</th>\n",
       "      <td>Adelie</td>\n",
       "      <td>Torgersen</td>\n",
       "      <td>39.10</td>\n",
       "      <td>18.7</td>\n",
       "      <td>181.0</td>\n",
       "      <td>3750.0</td>\n",
       "      <td>1</td>\n",
       "    </tr>\n",
       "    <tr>\n",
       "      <th>1</th>\n",
       "      <td>Adelie</td>\n",
       "      <td>Torgersen</td>\n",
       "      <td>39.50</td>\n",
       "      <td>17.4</td>\n",
       "      <td>186.0</td>\n",
       "      <td>3800.0</td>\n",
       "      <td>0</td>\n",
       "    </tr>\n",
       "    <tr>\n",
       "      <th>2</th>\n",
       "      <td>Adelie</td>\n",
       "      <td>Torgersen</td>\n",
       "      <td>40.30</td>\n",
       "      <td>18.0</td>\n",
       "      <td>195.0</td>\n",
       "      <td>3250.0</td>\n",
       "      <td>0</td>\n",
       "    </tr>\n",
       "    <tr>\n",
       "      <th>3</th>\n",
       "      <td>Adelie</td>\n",
       "      <td>Torgersen</td>\n",
       "      <td>44.45</td>\n",
       "      <td>17.3</td>\n",
       "      <td>197.0</td>\n",
       "      <td>4050.0</td>\n",
       "      <td>1</td>\n",
       "    </tr>\n",
       "    <tr>\n",
       "      <th>4</th>\n",
       "      <td>Adelie</td>\n",
       "      <td>Torgersen</td>\n",
       "      <td>36.70</td>\n",
       "      <td>19.3</td>\n",
       "      <td>193.0</td>\n",
       "      <td>3450.0</td>\n",
       "      <td>0</td>\n",
       "    </tr>\n",
       "  </tbody>\n",
       "</table>\n",
       "</div>"
      ],
      "text/plain": [
       "  species     island  culmen_length_mm  culmen_depth_mm  flipper_length_mm  \\\n",
       "0  Adelie  Torgersen             39.10             18.7              181.0   \n",
       "1  Adelie  Torgersen             39.50             17.4              186.0   \n",
       "2  Adelie  Torgersen             40.30             18.0              195.0   \n",
       "3  Adelie  Torgersen             44.45             17.3              197.0   \n",
       "4  Adelie  Torgersen             36.70             19.3              193.0   \n",
       "\n",
       "   body_mass_g  sex  \n",
       "0       3750.0    1  \n",
       "1       3800.0    0  \n",
       "2       3250.0    0  \n",
       "3       4050.0    1  \n",
       "4       3450.0    0  "
      ]
     },
     "execution_count": 135,
     "metadata": {},
     "output_type": "execute_result"
    }
   ],
   "source": [
    "pn.head()"
   ]
  },
  {
   "cell_type": "code",
   "execution_count": null,
   "id": "b2c8502a",
   "metadata": {},
   "outputs": [],
   "source": []
  },
  {
   "cell_type": "code",
   "execution_count": 136,
   "id": "ffa0cb2b",
   "metadata": {},
   "outputs": [],
   "source": [
    "import matplotlib.pyplot as plt\n",
    "import seaborn as sns"
   ]
  },
  {
   "cell_type": "code",
   "execution_count": 137,
   "id": "1f331588",
   "metadata": {},
   "outputs": [
    {
     "data": {
      "image/png": "[encoded data removed]",
      "text/plain": [
       "<Figure size 432x288 with 1 Axes>"
      ]
     },
     "metadata": {
      "needs_background": "light"
     },
     "output_type": "display_data"
    },
    {
     "data": {
      "image/png": "[encoded data removed]",
      "text/plain": [
       "<Figure size 432x288 with 1 Axes>"
      ]
     },
     "metadata": {
      "needs_background": "light"
     },
     "output_type": "display_data"
    },
    {
     "data": {
      "image/png": "[encoded data removed]",
      "text/plain": [
       "<Figure size 432x288 with 1 Axes>"
      ]
     },
     "metadata": {
      "needs_background": "light"
     },
     "output_type": "display_data"
    },
    {
     "data": {
      "image/png": "[encoded data removed]",
      "text/plain": [
       "<Figure size 432x288 with 1 Axes>"
      ]
     },
     "metadata": {
      "needs_background": "light"
     },
     "output_type": "display_data"
    },
    {
     "data": {
      "image/png": "[encoded data removed]",
      "text/plain": [
       "<Figure size 432x288 with 1 Axes>"
      ]
     },
     "metadata": {
      "needs_background": "light"
     },
     "output_type": "display_data"
    },
    {
     "data": {
      "image/png": "[encoded data removed]",
      "text/plain": [
       "<Figure size 432x288 with 1 Axes>"
      ]
     },
     "metadata": {
      "needs_background": "light"
     },
     "output_type": "display_data"
    },
    {
     "data": {
      "image/png": "[encoded data removed]",
      "text/plain": [
       "<Figure size 432x288 with 1 Axes>"
      ]
     },
     "metadata": {
      "needs_background": "light"
     },
     "output_type": "display_data"
    }
   ],
   "source": [
    "for feature in pn:\n",
    "    data=pn.copy()\n",
    "    figure=data[feature].hist(bins=50)\n",
    "    plt.title(feature)\n",
    "    plt.xlabel(feature)\n",
    "    plt.ylabel('Count')\n",
    "    plt.show()"
   ]
  },
  {
   "cell_type": "code",
   "execution_count": null,
   "id": "5a424b03",
   "metadata": {},
   "outputs": [],
   "source": []
  },
  {
   "cell_type": "code",
   "execution_count": 138,
   "id": "52c31497",
   "metadata": {},
   "outputs": [],
   "source": [
    "for feature in pn.columns[2:]:\n",
    "    pn[feature] = pn[feature]**1/2"
   ]
  },
  {
   "cell_type": "code",
   "execution_count": null,
   "id": "8c93099d",
   "metadata": {},
   "outputs": [],
   "source": []
  },
  {
   "cell_type": "code",
   "execution_count": 139,
   "id": "7dfbe1c1",
   "metadata": {},
   "outputs": [],
   "source": [
    "pn_categorial = pn.iloc[:2]"
   ]
  },
  {
   "cell_type": "code",
   "execution_count": 140,
   "id": "a9182f75",
   "metadata": {},
   "outputs": [],
   "source": [
    "pn_numerical = pn.iloc[2:]"
   ]
  },
  {
   "cell_type": "code",
   "execution_count": 141,
   "id": "36903d09",
   "metadata": {},
   "outputs": [
    {
     "data": {
      "image/png": "[encoded data removed]",
      "text/plain": [
       "<Figure size 432x288 with 1 Axes>"
      ]
     },
     "metadata": {
      "needs_background": "light"
     },
     "output_type": "display_data"
    },
    {
     "data": {
      "image/png": "[encoded data removed]",
      "text/plain": [
       "<Figure size 432x288 with 1 Axes>"
      ]
     },
     "metadata": {
      "needs_background": "light"
     },
     "output_type": "display_data"
    },
    {
     "data": {
      "image/png": "[encoded data removed]",
      "text/plain": [
       "<Figure size 432x288 with 1 Axes>"
      ]
     },
     "metadata": {
      "needs_background": "light"
     },
     "output_type": "display_data"
    },
    {
     "data": {
      "image/png": "[encoded data removed]",
      "text/plain": [
       "<Figure size 432x288 with 1 Axes>"
      ]
     },
     "metadata": {
      "needs_background": "light"
     },
     "output_type": "display_data"
    },
    {
     "data": {
      "image/png": "[encoded data removed]",
      "text/plain": [
       "<Figure size 432x288 with 1 Axes>"
      ]
     },
     "metadata": {
      "needs_background": "light"
     },
     "output_type": "display_data"
    },
    {
     "data": {
      "image/png": "[encoded data removed]",
      "text/plain": [
       "<Figure size 432x288 with 1 Axes>"
      ]
     },
     "metadata": {
      "needs_background": "light"
     },
     "output_type": "display_data"
    }
   ],
   "source": [
    "for feature in pn.columns[1:]:\n",
    "    plt.scatter(pn[feature],pn['species'])\n",
    "    plt.xlabel(feature)\n",
    "    plt.show()"
   ]
  },
  {
   "cell_type": "code",
   "execution_count": 142,
   "id": "b5b99477",
   "metadata": {},
   "outputs": [],
   "source": [
    "import seaborn as sns"
   ]
  },
  {
   "cell_type": "code",
   "execution_count": 143,
   "id": "c6d84da9",
   "metadata": {},
   "outputs": [],
   "source": [
    "#sns.pairplot(pn)"
   ]
  },
  {
   "cell_type": "code",
   "execution_count": null,
   "id": "20c1a63e",
   "metadata": {},
   "outputs": [],
   "source": []
  },
  {
   "cell_type": "code",
   "execution_count": 144,
   "id": "e586b672",
   "metadata": {},
   "outputs": [
    {
     "data": {
      "image/png": "[encoded data removed]",
      "text/plain": [
       "<Figure size 1440x1440 with 2 Axes>"
      ]
     },
     "metadata": {
      "needs_background": "light"
     },
     "output_type": "display_data"
    }
   ],
   "source": [
    "import seaborn as sns\n",
    "\n",
    "#get correlations of each features in dataset\n",
    "corrmat = pn.corr()\n",
    "\n",
    "top_corr_features = corrmat.index\n",
    "plt.figure(figsize=(20,20))\n",
    "\n",
    "#plot heat map\n",
    "g=sns.heatmap(pn[top_corr_features].corr(),annot=True,cmap=\"RdYlGn\")"
   ]
  },
  {
   "cell_type": "code",
   "execution_count": null,
   "id": "ed0791c5",
   "metadata": {},
   "outputs": [],
   "source": []
  },
  {
   "cell_type": "code",
   "execution_count": 145,
   "id": "5f510570",
   "metadata": {},
   "outputs": [
    {
     "data": {
      "text/plain": [
       "array(['Adelie', 'Chinstrap', 'Gentoo'], dtype=object)"
      ]
     },
     "execution_count": 145,
     "metadata": {},
     "output_type": "execute_result"
    }
   ],
   "source": [
    "pn['species'].unique()"
   ]
  },
  {
   "cell_type": "code",
   "execution_count": 146,
   "id": "d4c26cdf",
   "metadata": {},
   "outputs": [],
   "source": [
    "pn['species'] = pn['species'].astype(str).str[0]"
   ]
  },
  {
   "cell_type": "code",
   "execution_count": 147,
   "id": "5406f4e8",
   "metadata": {},
   "outputs": [],
   "source": [
    "species_dict = {'A':0,'C':1,'G':2}\n",
    "pn['species'] = pn['species'].map(species_dict)"
   ]
  },
  {
   "cell_type": "code",
   "execution_count": 148,
   "id": "432c18d3",
   "metadata": {},
   "outputs": [
    {
     "data": {
      "text/html": [
       "<div>\n",
       "<style scoped>\n",
       "    .dataframe tbody tr th:only-of-type {\n",
       "        vertical-align: middle;\n",
       "    }\n",
       "\n",
       "    .dataframe tbody tr th {\n",
       "        vertical-align: top;\n",
       "    }\n",
       "\n",
       "    .dataframe thead th {\n",
       "        text-align: right;\n",
       "    }\n",
       "</style>\n",
       "<table border=\"1\" class=\"dataframe\">\n",
       "  <thead>\n",
       "    <tr style=\"text-align: right;\">\n",
       "      <th></th>\n",
       "      <th>species</th>\n",
       "      <th>island</th>\n",
       "      <th>culmen_length_mm</th>\n",
       "      <th>culmen_depth_mm</th>\n",
       "      <th>flipper_length_mm</th>\n",
       "      <th>body_mass_g</th>\n",
       "      <th>sex</th>\n",
       "    </tr>\n",
       "  </thead>\n",
       "  <tbody>\n",
       "    <tr>\n",
       "      <th>0</th>\n",
       "      <td>0</td>\n",
       "      <td>Torgersen</td>\n",
       "      <td>19.550</td>\n",
       "      <td>9.35</td>\n",
       "      <td>90.5</td>\n",
       "      <td>1875.0</td>\n",
       "      <td>0.5</td>\n",
       "    </tr>\n",
       "    <tr>\n",
       "      <th>1</th>\n",
       "      <td>0</td>\n",
       "      <td>Torgersen</td>\n",
       "      <td>19.750</td>\n",
       "      <td>8.70</td>\n",
       "      <td>93.0</td>\n",
       "      <td>1900.0</td>\n",
       "      <td>0.0</td>\n",
       "    </tr>\n",
       "    <tr>\n",
       "      <th>2</th>\n",
       "      <td>0</td>\n",
       "      <td>Torgersen</td>\n",
       "      <td>20.150</td>\n",
       "      <td>9.00</td>\n",
       "      <td>97.5</td>\n",
       "      <td>1625.0</td>\n",
       "      <td>0.0</td>\n",
       "    </tr>\n",
       "    <tr>\n",
       "      <th>3</th>\n",
       "      <td>0</td>\n",
       "      <td>Torgersen</td>\n",
       "      <td>22.225</td>\n",
       "      <td>8.65</td>\n",
       "      <td>98.5</td>\n",
       "      <td>2025.0</td>\n",
       "      <td>0.5</td>\n",
       "    </tr>\n",
       "    <tr>\n",
       "      <th>4</th>\n",
       "      <td>0</td>\n",
       "      <td>Torgersen</td>\n",
       "      <td>18.350</td>\n",
       "      <td>9.65</td>\n",
       "      <td>96.5</td>\n",
       "      <td>1725.0</td>\n",
       "      <td>0.0</td>\n",
       "    </tr>\n",
       "  </tbody>\n",
       "</table>\n",
       "</div>"
      ],
      "text/plain": [
       "   species     island  culmen_length_mm  culmen_depth_mm  flipper_length_mm  \\\n",
       "0        0  Torgersen            19.550             9.35               90.5   \n",
       "1        0  Torgersen            19.750             8.70               93.0   \n",
       "2        0  Torgersen            20.150             9.00               97.5   \n",
       "3        0  Torgersen            22.225             8.65               98.5   \n",
       "4        0  Torgersen            18.350             9.65               96.5   \n",
       "\n",
       "   body_mass_g  sex  \n",
       "0       1875.0  0.5  \n",
       "1       1900.0  0.0  \n",
       "2       1625.0  0.0  \n",
       "3       2025.0  0.5  \n",
       "4       1725.0  0.0  "
      ]
     },
     "execution_count": 148,
     "metadata": {},
     "output_type": "execute_result"
    }
   ],
   "source": [
    "pn.head()"
   ]
  },
  {
   "cell_type": "code",
   "execution_count": 149,
   "id": "e5564231",
   "metadata": {},
   "outputs": [
    {
     "name": "stdout",
     "output_type": "stream",
     "text": [
      "{0: 0.0, 1: 1.0, 2: 2.0}\n",
      "{'Torgersen': 0.0, 'Dream': 0.5483870967741935, 'Biscoe': 1.4761904761904763}\n"
     ]
    }
   ],
   "source": [
    "for i in pn.columns[:2]:\n",
    "    \n",
    "    ordinal_labels = pn.groupby([i])['species'].mean().sort_values().to_dict()\n",
    "    print(ordinal_labels)\n",
    "    #ordinal_labels2 = {k:i for i,k in enumerate(ordinal_labels,0)}\n",
    "    pn[i] = pn[i].map(ordinal_labels)"
   ]
  },
  {
   "cell_type": "code",
   "execution_count": null,
   "id": "751c96f3",
   "metadata": {},
   "outputs": [],
   "source": []
  },
  {
   "cell_type": "code",
   "execution_count": 150,
   "id": "70adb7bf",
   "metadata": {},
   "outputs": [
    {
     "data": {
      "text/html": [
       "<div>\n",
       "<style scoped>\n",
       "    .dataframe tbody tr th:only-of-type {\n",
       "        vertical-align: middle;\n",
       "    }\n",
       "\n",
       "    .dataframe tbody tr th {\n",
       "        vertical-align: top;\n",
       "    }\n",
       "\n",
       "    .dataframe thead th {\n",
       "        text-align: right;\n",
       "    }\n",
       "</style>\n",
       "<table border=\"1\" class=\"dataframe\">\n",
       "  <thead>\n",
       "    <tr style=\"text-align: right;\">\n",
       "      <th></th>\n",
       "      <th>species</th>\n",
       "      <th>island</th>\n",
       "      <th>culmen_length_mm</th>\n",
       "      <th>culmen_depth_mm</th>\n",
       "      <th>flipper_length_mm</th>\n",
       "      <th>body_mass_g</th>\n",
       "      <th>sex</th>\n",
       "    </tr>\n",
       "  </thead>\n",
       "  <tbody>\n",
       "    <tr>\n",
       "      <th>0</th>\n",
       "      <td>0.0</td>\n",
       "      <td>0.0</td>\n",
       "      <td>19.550</td>\n",
       "      <td>9.35</td>\n",
       "      <td>90.5</td>\n",
       "      <td>1875.0</td>\n",
       "      <td>0.5</td>\n",
       "    </tr>\n",
       "    <tr>\n",
       "      <th>1</th>\n",
       "      <td>0.0</td>\n",
       "      <td>0.0</td>\n",
       "      <td>19.750</td>\n",
       "      <td>8.70</td>\n",
       "      <td>93.0</td>\n",
       "      <td>1900.0</td>\n",
       "      <td>0.0</td>\n",
       "    </tr>\n",
       "    <tr>\n",
       "      <th>2</th>\n",
       "      <td>0.0</td>\n",
       "      <td>0.0</td>\n",
       "      <td>20.150</td>\n",
       "      <td>9.00</td>\n",
       "      <td>97.5</td>\n",
       "      <td>1625.0</td>\n",
       "      <td>0.0</td>\n",
       "    </tr>\n",
       "    <tr>\n",
       "      <th>3</th>\n",
       "      <td>0.0</td>\n",
       "      <td>0.0</td>\n",
       "      <td>22.225</td>\n",
       "      <td>8.65</td>\n",
       "      <td>98.5</td>\n",
       "      <td>2025.0</td>\n",
       "      <td>0.5</td>\n",
       "    </tr>\n",
       "    <tr>\n",
       "      <th>4</th>\n",
       "      <td>0.0</td>\n",
       "      <td>0.0</td>\n",
       "      <td>18.350</td>\n",
       "      <td>9.65</td>\n",
       "      <td>96.5</td>\n",
       "      <td>1725.0</td>\n",
       "      <td>0.0</td>\n",
       "    </tr>\n",
       "  </tbody>\n",
       "</table>\n",
       "</div>"
      ],
      "text/plain": [
       "   species  island  culmen_length_mm  culmen_depth_mm  flipper_length_mm  \\\n",
       "0      0.0     0.0            19.550             9.35               90.5   \n",
       "1      0.0     0.0            19.750             8.70               93.0   \n",
       "2      0.0     0.0            20.150             9.00               97.5   \n",
       "3      0.0     0.0            22.225             8.65               98.5   \n",
       "4      0.0     0.0            18.350             9.65               96.5   \n",
       "\n",
       "   body_mass_g  sex  \n",
       "0       1875.0  0.5  \n",
       "1       1900.0  0.0  \n",
       "2       1625.0  0.0  \n",
       "3       2025.0  0.5  \n",
       "4       1725.0  0.0  "
      ]
     },
     "execution_count": 150,
     "metadata": {},
     "output_type": "execute_result"
    }
   ],
   "source": [
    "pn.head()"
   ]
  },
  {
   "cell_type": "code",
   "execution_count": null,
   "id": "4bfecb1b",
   "metadata": {},
   "outputs": [],
   "source": []
  },
  {
   "cell_type": "code",
   "execution_count": 151,
   "id": "292eea4a",
   "metadata": {},
   "outputs": [],
   "source": [
    "X = pn.iloc[:,1:]\n",
    "y = pn.iloc[:,0]"
   ]
  },
  {
   "cell_type": "code",
   "execution_count": null,
   "id": "93ef019c",
   "metadata": {},
   "outputs": [],
   "source": []
  },
  {
   "cell_type": "code",
   "execution_count": 152,
   "id": "033b76aa",
   "metadata": {},
   "outputs": [],
   "source": [
    "from sklearn.model_selection import train_test_split\n",
    "X_train, X_test, y_train, y_test = train_test_split(X, y, test_size=0.3, random_state=0)"
   ]
  },
  {
   "cell_type": "code",
   "execution_count": 153,
   "id": "6ce5a199",
   "metadata": {},
   "outputs": [],
   "source": [
    "from sklearn.preprocessing import MinMaxScaler\n",
    "scaler = MinMaxScaler()\n",
    "X_train_scaled = scaler.fit_transform(X_train)\n",
    "X_test_scaled = scaler.transform(X_test)"
   ]
  },
  {
   "cell_type": "code",
   "execution_count": 154,
   "id": "e0d1b075",
   "metadata": {},
   "outputs": [
    {
     "data": {
      "text/plain": [
       "array([[ 0.37148803,  0.28301887,  0.48809524,  0.25423729,  0.21527778,\n",
       "         1.        ],\n",
       "       [ 0.        ,  0.21886792,  0.55952381,  0.15254237,  0.25694444,\n",
       "         0.        ],\n",
       "       [ 1.        ,  0.09811321,  0.45238095,  0.22033898,  0.125     ,\n",
       "         0.        ],\n",
       "       [ 1.        ,  0.63773585,  0.26190476,  0.81355932,  0.79166667,\n",
       "         1.        ],\n",
       "       [ 1.        ,  0.05283019,  0.5952381 ,  0.25423729,  0.05555556,\n",
       "         0.        ],\n",
       "       [ 1.        ,  0.46792453,  0.16666667,  0.6779661 ,  0.56944444,\n",
       "         0.        ],\n",
       "       [ 0.        ,  0.21509434,  0.53571429,  0.3220339 ,  0.15972222,\n",
       "         0.        ],\n",
       "       [ 0.37148803,  0.85660377,  0.79761905,  0.59322034,  0.36111111,\n",
       "         1.        ],\n",
       "       [ 1.        ,  0.45283019,  0.16666667,  0.59322034,  0.65277778,\n",
       "         0.        ],\n",
       "       [ 1.        ,  0.07169811,  0.57142857,  0.33898305,  0.28472222,\n",
       "         0.        ],\n",
       "       [ 1.        ,  0.29811321,  0.82142857,  0.52542373,  0.5625    ,\n",
       "         1.        ],\n",
       "       [ 1.        ,  0.38490566,  0.03571429,  0.62711864,  0.47222222,\n",
       "         0.        ],\n",
       "       [ 0.37148803, -0.03773585,  0.28571429,  0.27118644,  0.09722222,\n",
       "         0.        ],\n",
       "       [ 1.        ,  0.49433962,  0.21428571,  0.83050847,  0.72222222,\n",
       "         1.        ],\n",
       "       [ 1.        ,  0.49433962,  0.16666667,  0.62711864,  0.58333333,\n",
       "         0.        ],\n",
       "       [ 0.37148803,  0.34339623,  0.64285714,  0.13559322,  0.23611111,\n",
       "         0.        ],\n",
       "       [ 1.        ,  0.1245283 ,  0.47619048,  0.20338983,  0.04166667,\n",
       "         0.        ],\n",
       "       [ 1.        ,  0.47924528,  0.17857143,  0.6440678 ,  0.41666667,\n",
       "         0.        ],\n",
       "       [ 1.        ,  0.22264151,  0.52380952,  0.23728814,  0.23611111,\n",
       "         0.        ],\n",
       "       [ 0.        ,  0.13207547,  0.55952381,  0.22033898,  0.27777778,\n",
       "         0.        ],\n",
       "       [ 1.        ,  0.49433962,  0.1547619 ,  0.71186441,  0.54166667,\n",
       "         1.        ],\n",
       "       [ 0.        ,  0.10566038,  0.41666667,  0.30508475,  0.09722222,\n",
       "         0.        ],\n",
       "       [ 0.37148803,  0.6       ,  0.77380952,  0.6779661 ,  0.44444444,\n",
       "         1.        ],\n",
       "       [ 0.37148803,  0.13962264,  0.64285714,  0.3559322 ,  0.22222222,\n",
       "         0.        ],\n",
       "       [ 1.        ,  0.57735849,  0.17857143,  0.69491525,  0.875     ,\n",
       "         1.        ],\n",
       "       [ 1.        ,  0.64528302,  0.14285714,  0.77966102,  0.83333333,\n",
       "         1.        ],\n",
       "       [ 1.        ,  0.4490566 ,  0.27380952,  0.81355932,  0.65277778,\n",
       "         1.        ],\n",
       "       [ 1.        ,  0.28301887,  0.6547619 ,  0.18644068,  0.23611111,\n",
       "         1.        ],\n",
       "       [ 1.        ,  0.31320755,  0.6547619 ,  0.3220339 ,  0.27777778,\n",
       "         1.        ],\n",
       "       [ 1.        ,  0.36226415,  0.07142857,  0.61016949,  0.34722222,\n",
       "         0.        ],\n",
       "       [ 1.        ,  0.55471698,  0.22619048,  0.72881356,  0.81944444,\n",
       "         1.        ],\n",
       "       [ 0.37148803,  0.67169811,  0.71428571,  0.40677966,  0.23611111,\n",
       "         1.        ],\n",
       "       [ 1.        ,  0.17735849,  0.61904762,  0.03389831,  0.19444444,\n",
       "         0.        ],\n",
       "       [ 0.        ,  0.11698113,  0.35714286,  0.25423729,  0.23611111,\n",
       "         0.        ],\n",
       "       [ 1.        ,  0.17735849,  0.82142857,  0.30508475,  0.43055556,\n",
       "         1.        ],\n",
       "       [ 0.37148803,  0.71320755,  0.9047619 ,  0.6440678 ,  0.58333333,\n",
       "         1.        ],\n",
       "       [ 1.        ,  0.63773585,  0.33333333,  0.88135593,  0.73611111,\n",
       "         1.        ],\n",
       "       [ 0.37148803,  0.73962264,  0.79761905,  0.42372881,  0.28472222,\n",
       "         1.        ],\n",
       "       [ 1.        ,  0.16981132,  0.71428571,  0.37288136,  0.29166667,\n",
       "         1.        ],\n",
       "       [ 1.        ,  0.32075472,  0.58333333,  0.33898305,  0.34722222,\n",
       "         1.        ],\n",
       "       [ 0.37148803,  0.22264151,  0.66666667,  0.22033898,  0.26388889,\n",
       "         1.        ],\n",
       "       [ 1.        ,  0.30188679,  0.60714286,  0.33898305,  0.375     ,\n",
       "         1.        ],\n",
       "       [ 0.        ,  0.09056604,  0.52380952,  0.30508475,  0.27777778,\n",
       "         0.        ],\n",
       "       [ 1.        ,  0.53207547,  0.28571429,  0.72881356,  0.63194444,\n",
       "         0.        ],\n",
       "       [ 1.        ,  0.63396226,  0.35714286,  0.69491525,  0.75      ,\n",
       "         1.        ],\n",
       "       [ 0.        ,  0.23018868,  0.77380952,  0.38983051,  0.54861111,\n",
       "         1.        ],\n",
       "       [ 1.        ,  0.67924528,  0.38095238,  0.81355932,  0.91666667,\n",
       "         1.        ],\n",
       "       [ 0.37148803,  0.67169811,  0.57142857,  0.40677966,  0.27083333,\n",
       "         0.        ],\n",
       "       [ 0.37148803,  0.23018868,  0.6547619 ,  0.30508475,  0.43055556,\n",
       "         1.        ],\n",
       "       [ 1.        ,  0.56981132,  0.14285714,  0.6440678 ,  0.52777778,\n",
       "         0.        ],\n",
       "       [ 0.37148803,  0.03396226,  0.47619048,  0.22033898,  0.19444444,\n",
       "         0.        ],\n",
       "       [ 0.37148803,  0.21886792,  0.67857143,  0.30508475,  0.25      ,\n",
       "         0.        ],\n",
       "       [ 0.        ,  0.07924528,  0.33333333,  0.23728814,  0.09722222,\n",
       "         0.        ],\n",
       "       [ 1.        ,  0.17358491,  0.3452381 ,  0.18644068,  0.10416667,\n",
       "         0.        ],\n",
       "       [ 0.37148803,  0.26792453,  0.83333333,  0.47457627,  0.35416667,\n",
       "         1.        ],\n",
       "       [ 0.37148803,  0.39245283,  0.5952381 ,  0.50847458,  0.19444444,\n",
       "         0.        ],\n",
       "       [ 1.        ,  0.07169811,  0.57142857,  0.30508475,  0.20833333,\n",
       "         0.        ],\n",
       "       [ 1.        ,  0.73207547,  0.29761905,  0.83050847,  0.76388889,\n",
       "         1.        ],\n",
       "       [ 0.37148803,  0.45660377,  0.41666667,  0.3220339 ,  0.15277778,\n",
       "         0.        ],\n",
       "       [ 1.        ,  0.58867925,  0.23809524,  0.84745763,  0.73611111,\n",
       "         1.        ],\n",
       "       [ 0.37148803,  0.70943396,  0.76190476,  0.57627119,  0.34722222,\n",
       "         1.        ],\n",
       "       [ 0.37148803,  0.74339623,  0.82142857,  0.55932203,  0.51388889,\n",
       "         1.        ],\n",
       "       [ 0.        ,  0.29433962,  0.44047619,  0.3220339 ,  0.27777778,\n",
       "         0.        ],\n",
       "       [ 1.        ,  0.45660377,  0.39285714,  0.86440678,  0.90277778,\n",
       "         1.        ],\n",
       "       [ 1.        ,  0.51698113,  0.27380952,  0.72881356,  0.68055556,\n",
       "         1.        ],\n",
       "       [ 1.        ,  0.45660377,  0.08333333,  0.72881356,  0.56944444,\n",
       "         0.        ],\n",
       "       [ 1.        ,  0.17358491,  0.66666667,  0.13559322,  0.25      ,\n",
       "         1.        ],\n",
       "       [ 1.        ,  0.43018868,  0.14285714,  0.74576271,  0.38888889,\n",
       "         1.        ],\n",
       "       [ 1.        ,  0.50188679,  0.29761905,  0.83050847,  0.63888889,\n",
       "         1.        ],\n",
       "       [ 0.37148803,  0.34716981,  0.96428571,  0.3220339 ,  0.40277778,\n",
       "         1.        ],\n",
       "       [ 1.        ,  0.54339623,  0.22619048,  0.77966102,  0.625     ,\n",
       "         0.        ],\n",
       "       [ 1.        ,  0.51698113,  0.35714286,  0.72881356,  0.77777778,\n",
       "         1.        ],\n",
       "       [ 0.        ,  0.26792453,  0.46428571,  0.06779661,  0.20833333,\n",
       "         0.        ],\n",
       "       [ 0.37148803,  0.65660377,  0.77380952,  0.49152542,  0.375     ,\n",
       "         1.        ],\n",
       "       [ 1.        ,  0.68679245,  0.13095238,  0.77966102,  0.72222222,\n",
       "         1.        ],\n",
       "       [ 0.37148803,  0.09811321,  0.58333333,  0.50847458,  0.23611111,\n",
       "         0.        ],\n",
       "       [ 1.        ,  0.10566038,  0.72619048,  0.28813559,  0.30555556,\n",
       "         0.        ],\n",
       "       [ 1.        ,  0.46792453,  0.07142857,  0.71186441,  0.54166667,\n",
       "         0.        ],\n",
       "       [ 0.37148803,  0.50943396,  0.55952381,  0.3559322 ,  0.30555556,\n",
       "         0.        ],\n",
       "       [ 0.37148803,  0.6490566 ,  0.82142857,  0.42372881,  0.16666667,\n",
       "         1.        ],\n",
       "       [ 1.        ,  0.09056604,  0.36904762,  0.38983051,  0.18055556,\n",
       "         0.        ],\n",
       "       [ 0.37148803,  0.58113208,  0.52380952,  0.3220339 ,  0.19444444,\n",
       "         1.        ],\n",
       "       [ 0.        ,  0.30188679,  0.53571429,  0.16949153,  0.13888889,\n",
       "         0.        ],\n",
       "       [ 1.        ,  0.20754717,  0.48809524,  0.45762712,  0.29166667,\n",
       "         0.        ],\n",
       "       [ 0.37148803,  0.26792453,  0.47619048,  0.3559322 ,  0.19444444,\n",
       "         0.        ],\n",
       "       [ 1.        ,  0.38113208,  0.16666667,  0.61016949,  0.48611111,\n",
       "         0.        ],\n",
       "       [ 0.        ,  0.35471698,  0.9047619 ,  0.42372881,  0.5       ,\n",
       "         1.        ],\n",
       "       [ 1.        ,  0.54339623,  0.10714286,  0.6779661 ,  0.60416667,\n",
       "         0.        ],\n",
       "       [ 1.        ,  0.34339623,  0.76190476,  0.42372881,  0.4375    ,\n",
       "         1.        ],\n",
       "       [ 0.37148803,  0.09433962,  0.52380952,  0.3220339 ,  0.13194444,\n",
       "         0.        ],\n",
       "       [ 1.        ,  0.44528302,  0.02380952,  0.69491525,  0.66666667,\n",
       "         0.        ],\n",
       "       [ 1.        ,  0.39245283,  0.25      ,  0.69491525,  0.54166667,\n",
       "         0.        ],\n",
       "       [ 0.37148803,  0.30188679,  0.52380952,  0.30508475,  0.33333333,\n",
       "         1.        ],\n",
       "       [ 0.37148803,  0.51320755,  0.57142857,  0.38983051,  0.16666667,\n",
       "         0.        ],\n",
       "       [ 1.        ,  0.47924528,  0.13095238,  0.79661017,  0.55555556,\n",
       "         0.        ],\n",
       "       [ 1.        ,  0.38490566,  0.10714286,  0.61016949,  0.52083333,\n",
       "         0.        ],\n",
       "       [ 0.37148803,  0.68679245,  0.60714286,  0.42372881,  0.29166667,\n",
       "         1.        ],\n",
       "       [ 1.        ,  0.4754717 ,  0.0952381 ,  0.71186441,  0.47222222,\n",
       "         0.        ],\n",
       "       [ 0.37148803,  0.18867925,  0.53571429,  0.25423729,  0.20138889,\n",
       "         0.        ],\n",
       "       [ 0.        ,  0.36981132,  0.53571429,  0.40677966,  0.55555556,\n",
       "         1.        ],\n",
       "       [ 0.        ,  0.24150943,  0.51190476,  0.23728814,  0.30555556,\n",
       "         0.        ],\n",
       "       [ 0.        ,  0.11698113,  0.48809524,  0.25423729,  0.125     ,\n",
       "         0.        ],\n",
       "       [ 0.        ,  0.03773585,  0.5952381 ,  0.3559322 ,  0.21527778,\n",
       "         1.        ],\n",
       "       [ 1.        ,  0.61886792,  0.35714286,  0.88135593,  0.81944444,\n",
       "         1.        ]])"
      ]
     },
     "execution_count": 154,
     "metadata": {},
     "output_type": "execute_result"
    }
   ],
   "source": [
    "X_test_scaled"
   ]
  },
  {
   "cell_type": "code",
   "execution_count": 155,
   "id": "c6a98359",
   "metadata": {},
   "outputs": [],
   "source": [
    "from sklearn.metrics import accuracy_score,confusion_matrix,classification_report"
   ]
  },
  {
   "cell_type": "code",
   "execution_count": null,
   "id": "38b26e34",
   "metadata": {},
   "outputs": [],
   "source": []
  },
  {
   "cell_type": "code",
   "execution_count": 156,
   "id": "455b0667",
   "metadata": {},
   "outputs": [],
   "source": [
    "from sklearn.linear_model import LinearRegression\n",
    "from sklearn.metrics import mean_squared_error"
   ]
  },
  {
   "cell_type": "code",
   "execution_count": 157,
   "id": "343c93c2",
   "metadata": {},
   "outputs": [
    {
     "data": {
      "text/plain": [
       "LinearRegression()"
      ]
     },
     "execution_count": 157,
     "metadata": {},
     "output_type": "execute_result"
    }
   ],
   "source": [
    "lg = LinearRegression()\n",
    "lg.fit(X_train_scaled,y_train)"
   ]
  },
  {
   "cell_type": "code",
   "execution_count": 158,
   "id": "9f68e409",
   "metadata": {},
   "outputs": [],
   "source": [
    "y_pred = lg.predict(X_test_scaled)"
   ]
  },
  {
   "cell_type": "code",
   "execution_count": 159,
   "id": "1f758938",
   "metadata": {},
   "outputs": [
    {
     "name": "stdout",
     "output_type": "stream",
     "text": [
      "accuracy = 92.7 %\n",
      "loss 0.060203327627199855\n"
     ]
    }
   ],
   "source": [
    "from sklearn.metrics import r2_score,mean_squared_error\n",
    "print('accuracy =',np.round(r2_score(y_test, y_pred),3)*100,\"%\")\n",
    "print(\"loss\",mean_squared_error(y_test,y_pred))\n"
   ]
  },
  {
   "cell_type": "code",
   "execution_count": null,
   "id": "89898bbc",
   "metadata": {},
   "outputs": [],
   "source": []
  },
  {
   "cell_type": "code",
   "execution_count": null,
   "id": "df589b87",
   "metadata": {},
   "outputs": [],
   "source": []
  },
  {
   "cell_type": "code",
   "execution_count": 160,
   "id": "84ebec84",
   "metadata": {},
   "outputs": [],
   "source": [
    "from sklearn.linear_model import LogisticRegression\n",
    "from sklearn.metrics import mean_squared_error"
   ]
  },
  {
   "cell_type": "code",
   "execution_count": 161,
   "id": "9dd3216f",
   "metadata": {},
   "outputs": [
    {
     "data": {
      "text/plain": [
       "LogisticRegression()"
      ]
     },
     "execution_count": 161,
     "metadata": {},
     "output_type": "execute_result"
    }
   ],
   "source": [
    "lg = LogisticRegression()\n",
    "lg.fit(X_train_scaled,y_train)"
   ]
  },
  {
   "cell_type": "code",
   "execution_count": 162,
   "id": "35d022a1",
   "metadata": {},
   "outputs": [],
   "source": [
    "y_pred = lg.predict(X_test_scaled)"
   ]
  },
  {
   "cell_type": "code",
   "execution_count": 163,
   "id": "04ddf545",
   "metadata": {},
   "outputs": [
    {
     "name": "stdout",
     "output_type": "stream",
     "text": [
      "MSE: 0.0\n",
      "[[51  0  0]\n",
      " [ 0 16  0]\n",
      " [ 0  0 37]]\n",
      "1.0\n",
      "              precision    recall  f1-score   support\n",
      "\n",
      "         0.0       1.00      1.00      1.00        51\n",
      "         1.0       1.00      1.00      1.00        16\n",
      "         2.0       1.00      1.00      1.00        37\n",
      "\n",
      "    accuracy                           1.00       104\n",
      "   macro avg       1.00      1.00      1.00       104\n",
      "weighted avg       1.00      1.00      1.00       104\n",
      "\n"
     ]
    }
   ],
   "source": [
    "from sklearn.metrics import r2_score,mean_squared_error\n",
    "#print('accuracy =',r2_score(y_test, y_pred)*100,\"%\")\n",
    "print(\"MSE:\",mean_squared_error(y_test,y_pred))\n",
    "\n",
    "print(confusion_matrix(y_test,y_pred))\n",
    "print(accuracy_score(y_test,y_pred))\n",
    "print(classification_report(y_test,y_pred))"
   ]
  },
  {
   "cell_type": "code",
   "execution_count": 164,
   "id": "000adb62",
   "metadata": {},
   "outputs": [
    {
     "name": "stdout",
     "output_type": "stream",
     "text": [
      "Accuracy_score: 100.0\n"
     ]
    }
   ],
   "source": [
    "from sklearn.metrics import accuracy_score,roc_auc_score\n",
    "print(\"Accuracy_score: {}\".format(accuracy_score(y_test,y_pred)*100))"
   ]
  },
  {
   "cell_type": "code",
   "execution_count": null,
   "id": "6cdf114f",
   "metadata": {},
   "outputs": [],
   "source": []
  },
  {
   "cell_type": "code",
   "execution_count": 165,
   "id": "bcde36a3",
   "metadata": {},
   "outputs": [
    {
     "data": {
      "text/plain": [
       "KNeighborsClassifier(n_neighbors=10)"
      ]
     },
     "execution_count": 165,
     "metadata": {},
     "output_type": "execute_result"
    }
   ],
   "source": [
    "from sklearn.neighbors import KNeighborsClassifier\n",
    "classifier = KNeighborsClassifier(n_neighbors=10)\n",
    "classifier.fit(X_train_scaled, y_train)"
   ]
  },
  {
   "cell_type": "code",
   "execution_count": 166,
   "id": "a0cfe89c",
   "metadata": {},
   "outputs": [],
   "source": [
    "y_pred = classifier.predict(X_test_scaled)"
   ]
  },
  {
   "cell_type": "code",
   "execution_count": 167,
   "id": "952724c6",
   "metadata": {},
   "outputs": [],
   "source": [
    "from sklearn.metrics import r2_score,mean_squared_error\n"
   ]
  },
  {
   "cell_type": "code",
   "execution_count": 168,
   "id": "faff02f4",
   "metadata": {},
   "outputs": [
    {
     "name": "stdout",
     "output_type": "stream",
     "text": [
      "MSE: 0.009615384615384616\n",
      "[[50  1  0]\n",
      " [ 0 16  0]\n",
      " [ 0  0 37]]\n",
      "0.9903846153846154\n",
      "              precision    recall  f1-score   support\n",
      "\n",
      "         0.0       1.00      0.98      0.99        51\n",
      "         1.0       0.94      1.00      0.97        16\n",
      "         2.0       1.00      1.00      1.00        37\n",
      "\n",
      "    accuracy                           0.99       104\n",
      "   macro avg       0.98      0.99      0.99       104\n",
      "weighted avg       0.99      0.99      0.99       104\n",
      "\n"
     ]
    }
   ],
   "source": [
    "from sklearn.metrics import accuracy_score,roc_auc_score\n",
    "#print('accuracy =',r2_score(y_test, y_pred)*100,\"%\")\n",
    "print(\"MSE:\",mean_squared_error(y_test,y_pred))\n",
    "\n",
    "print(confusion_matrix(y_test,y_pred))\n",
    "print(accuracy_score(y_test,y_pred))\n",
    "print(classification_report(y_test,y_pred))"
   ]
  },
  {
   "cell_type": "code",
   "execution_count": null,
   "id": "7d4a4bcc",
   "metadata": {},
   "outputs": [],
   "source": []
  }
 ],
 "metadata": {
  "kernelspec": {
   "display_name": "Python 3 (ipykernel)",
   "language": "python",
   "name": "python3"
  },
  "language_info": {
   "codemirror_mode": {
    "name": "ipython",
    "version": 3
   },
   "file_extension": ".py",
   "mimetype": "text/x-python",
   "name": "python",
   "nbconvert_exporter": "python",
   "pygments_lexer": "ipython3",
   "version": "3.9.7"
  }
 },
 "nbformat": 4,
 "nbformat_minor": 5
}
